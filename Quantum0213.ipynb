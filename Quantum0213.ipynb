{
 "cells": [
  {
   "cell_type": "code",
   "execution_count": 1,
   "id": "daa4d72b",
   "metadata": {},
   "outputs": [
    {
     "data": {
      "application/vnd.jupyter.widget-view+json": {
       "model_id": "dd8d8dee88c5499090c83af13958ef10",
       "version_major": 2,
       "version_minor": 0
      },
      "text/plain": [
       "VBox(children=(HBox(children=(Button(description='I', layout=Layout(height='3em', width='3em'), style=ButtonSt…"
      ]
     },
     "metadata": {},
     "output_type": "display_data"
    },
    {
     "data": {
      "application/vnd.jupyter.widget-view+json": {
       "model_id": "dc2e6e83186e440a8b07f7c6455b24a2",
       "version_major": 2,
       "version_minor": 0
      },
      "text/plain": [
       "Image(value=b'\\x89PNG\\r\\n\\x1a\\n\\x00\\x00\\x00\\rIHDR\\x00\\x00\\x01 \\x00\\x00\\x01 \\x08\\x06\\x00\\x00\\x00\\x14\\x83\\xae\\x8…"
      ]
     },
     "metadata": {},
     "output_type": "display_data"
    }
   ],
   "source": [
    "# Run the code in this cell to see the widget\n",
    "from qiskit_textbook.widgets import gate_demo\n",
    "gate_demo()"
   ]
  },
  {
   "cell_type": "markdown",
   "id": "fe436e0f",
   "metadata": {},
   "source": [
    "## Making a Controlled-Z from a CNOT "
   ]
  },
  {
   "cell_type": "code",
   "execution_count": 2,
   "id": "6bd15965",
   "metadata": {},
   "outputs": [],
   "source": [
    "from qiskit import QuantumCircuit\n",
    "from qiskit.circuit import Gate\n",
    "from math import pi\n",
    "qc = QuantumCircuit(2)\n",
    "c = 0\n",
    "t = 1"
   ]
  },
  {
   "cell_type": "markdown",
   "id": "d03aebaa",
   "metadata": {},
   "source": [
    "1. HXH=Z \n",
    "2. controlled-Y\n",
    "3. controlled-H"
   ]
  },
  {
   "cell_type": "code",
   "execution_count": 3,
   "id": "27b04d19",
   "metadata": {},
   "outputs": [
    {
     "data": {
      "text/html": [
       "<pre style=\"word-wrap: normal;white-space: pre;background: #fff0;line-height: 1.1;font-family: &quot;Courier New&quot;,Courier,monospace\">        \n",
       "q_0: ─■─\n",
       "      │ \n",
       "q_1: ─■─\n",
       "        </pre>"
      ],
      "text/plain": [
       "        \n",
       "q_0: ─■─\n",
       "      │ \n",
       "q_1: ─■─\n",
       "        "
      ]
     },
     "execution_count": 3,
     "metadata": {},
     "output_type": "execute_result"
    }
   ],
   "source": [
    "# a controlled-Z\n",
    "qc.cz(c,t)\n",
    "qc.draw()"
   ]
  },
  {
   "cell_type": "code",
   "execution_count": 4,
   "id": "4f122df1",
   "metadata": {},
   "outputs": [
    {
     "data": {
      "image/png": "[encoded data removed]",
      "text/plain": [
       "<Figure size 146.652x144.48 with 1 Axes>"
      ]
     },
     "execution_count": 4,
     "metadata": {},
     "output_type": "execute_result"
    }
   ],
   "source": [
    "qc.draw('mpl')"
   ]
  },
  {
   "cell_type": "code",
   "execution_count": 5,
   "id": "c1a7f23a",
   "metadata": {},
   "outputs": [
    {
     "data": {
      "text/html": [
       "<pre style=\"word-wrap: normal;white-space: pre;background: #fff0;line-height: 1.1;font-family: &quot;Courier New&quot;,Courier,monospace\">                    \n",
       "q_0: ───────■───────\n",
       "     ┌───┐┌─┴─┐┌───┐\n",
       "q_1: ┤ H ├┤ X ├┤ H ├\n",
       "     └───┘└───┘└───┘</pre>"
      ],
      "text/plain": [
       "                    \n",
       "q_0: ───────■───────\n",
       "     ┌───┐┌─┴─┐┌───┐\n",
       "q_1: ┤ H ├┤ X ├┤ H ├\n",
       "     └───┘└───┘└───┘"
      ]
     },
     "execution_count": 5,
     "metadata": {},
     "output_type": "execute_result"
    }
   ],
   "source": [
    "qc = QuantumCircuit(2)\n",
    "# also a controlled-Z\n",
    "qc.h(t)\n",
    "qc.cx(c,t)\n",
    "qc.h(t)\n",
    "qc.draw()"
   ]
  },
  {
   "cell_type": "code",
   "execution_count": 6,
   "id": "77370b4a",
   "metadata": {},
   "outputs": [
    {
     "data": {
      "text/html": [
       "<pre style=\"word-wrap: normal;white-space: pre;background: #fff0;line-height: 1.1;font-family: &quot;Courier New&quot;,Courier,monospace\">                      \n",
       "q_0: ─────────■───────\n",
       "     ┌─────┐┌─┴─┐┌───┐\n",
       "q_1: ┤ Sdg ├┤ X ├┤ S ├\n",
       "     └─────┘└───┘└───┘</pre>"
      ],
      "text/plain": [
       "                      \n",
       "q_0: ─────────■───────\n",
       "     ┌─────┐┌─┴─┐┌───┐\n",
       "q_1: ┤ Sdg ├┤ X ├┤ S ├\n",
       "     └─────┘└───┘└───┘"
      ]
     },
     "execution_count": 6,
     "metadata": {},
     "output_type": "execute_result"
    }
   ],
   "source": [
    "qc = QuantumCircuit(2)\n",
    "# a controlled-Y\n",
    "qc.sdg(t)\n",
    "qc.cx(c,t)\n",
    "qc.s(t)\n",
    "qc.draw()"
   ]
  },
  {
   "cell_type": "code",
   "execution_count": 7,
   "id": "a50eb966",
   "metadata": {},
   "outputs": [
    {
     "data": {
      "text/html": [
       "<pre style=\"word-wrap: normal;white-space: pre;background: #fff0;line-height: 1.1;font-family: &quot;Courier New&quot;,Courier,monospace\">                                 \n",
       "q_0: ─────────────■──────────────\n",
       "     ┌─────────┐┌─┴─┐┌──────────┐\n",
       "q_1: ┤ Ry(π/4) ├┤ X ├┤ Ry(-π/4) ├\n",
       "     └─────────┘└───┘└──────────┘</pre>"
      ],
      "text/plain": [
       "                                 \n",
       "q_0: ─────────────■──────────────\n",
       "     ┌─────────┐┌─┴─┐┌──────────┐\n",
       "q_1: ┤ Ry(π/4) ├┤ X ├┤ Ry(-π/4) ├\n",
       "     └─────────┘└───┘└──────────┘"
      ]
     },
     "execution_count": 7,
     "metadata": {},
     "output_type": "execute_result"
    }
   ],
   "source": [
    "qc = QuantumCircuit(2)\n",
    "# a controlled-H\n",
    "qc.ry(pi/4,t)\n",
    "qc.cx(c,t)\n",
    "qc.ry(-pi/4,t)\n",
    "qc.draw()"
   ]
  },
  {
   "cell_type": "markdown",
   "id": "c58d0e13",
   "metadata": {},
   "source": [
    "## 2. Swapping Qubits"
   ]
  },
  {
   "cell_type": "code",
   "execution_count": 8,
   "id": "5f1d3a5a",
   "metadata": {},
   "outputs": [
    {
     "data": {
      "text/html": [
       "<pre style=\"word-wrap: normal;white-space: pre;background: #fff0;line-height: 1.1;font-family: &quot;Courier New&quot;,Courier,monospace\">        \n",
       "q_0: ─X─\n",
       "      │ \n",
       "q_1: ─X─\n",
       "        </pre>"
      ],
      "text/plain": [
       "        \n",
       "q_0: ─X─\n",
       "      │ \n",
       "q_1: ─X─\n",
       "        "
      ]
     },
     "execution_count": 8,
     "metadata": {},
     "output_type": "execute_result"
    }
   ],
   "source": [
    "a = 0\n",
    "b = 1\n",
    "\n",
    "qc = QuantumCircuit(2)\n",
    "# swaps states of qubits a and b\n",
    "qc.swap(a,b)\n",
    "qc.draw()"
   ]
  },
  {
   "cell_type": "code",
   "execution_count": 9,
   "id": "29098844",
   "metadata": {},
   "outputs": [
    {
     "data": {
      "text/html": [
       "<pre style=\"word-wrap: normal;white-space: pre;background: #fff0;line-height: 1.1;font-family: &quot;Courier New&quot;,Courier,monospace\">          ┌───┐\n",
       "q_0: ──■──┤ X ├\n",
       "     ┌─┴─┐└─┬─┘\n",
       "q_1: ┤ X ├──■──\n",
       "     └───┘     </pre>"
      ],
      "text/plain": [
       "          ┌───┐\n",
       "q_0: ──■──┤ X ├\n",
       "     ┌─┴─┐└─┬─┘\n",
       "q_1: ┤ X ├──■──\n",
       "     └───┘     "
      ]
     },
     "execution_count": 9,
     "metadata": {},
     "output_type": "execute_result"
    }
   ],
   "source": [
    "qc = QuantumCircuit(2)\n",
    "# swap a 1 from a to b\n",
    "qc.cx(a,b) # copies 1 from a to b\n",
    "qc.cx(b,a) # uses the 1 on b to rotate the state of a to 0\n",
    "qc.draw()\n",
    "#q_0=1 q_1=0 => ok\n",
    "#q_0=0 q_1=1 => X"
   ]
  },
  {
   "cell_type": "code",
   "execution_count": 10,
   "id": "dac5b59f",
   "metadata": {},
   "outputs": [
    {
     "data": {
      "text/html": [
       "<pre style=\"word-wrap: normal;white-space: pre;background: #fff0;line-height: 1.1;font-family: &quot;Courier New&quot;,Courier,monospace\">          ┌───┐┌───┐     \n",
       "q_0: ──■──┤ X ├┤ X ├──■──\n",
       "     ┌─┴─┐└─┬─┘└─┬─┘┌─┴─┐\n",
       "q_1: ┤ X ├──■────■──┤ X ├\n",
       "     └───┘          └───┘</pre>"
      ],
      "text/plain": [
       "          ┌───┐┌───┐     \n",
       "q_0: ──■──┤ X ├┤ X ├──■──\n",
       "     ┌─┴─┐└─┬─┘└─┬─┘┌─┴─┐\n",
       "q_1: ┤ X ├──■────■──┤ X ├\n",
       "     └───┘          └───┘"
      ]
     },
     "execution_count": 10,
     "metadata": {},
     "output_type": "execute_result"
    }
   ],
   "source": [
    "# swap a q from b to a\n",
    "qc.cx(b,a) # copies 1 from b to a\n",
    "qc.cx(a,b) # uses the 1 on a to rotate the state of b to 0\n",
    "qc.draw()\n",
    "#q_0:1 q_1:0 => unchange\n",
    "#q_0:0 q_1:1 => unchange"
   ]
  },
  {
   "cell_type": "code",
   "execution_count": 11,
   "id": "7ff7b887",
   "metadata": {},
   "outputs": [
    {
     "data": {
      "text/html": [
       "<pre style=\"word-wrap: normal;white-space: pre;background: #fff0;line-height: 1.1;font-family: &quot;Courier New&quot;,Courier,monospace\">     ┌───┐     ┌───┐\n",
       "q_0: ┤ X ├──■──┤ X ├\n",
       "     └─┬─┘┌─┴─┐└─┬─┘\n",
       "q_1: ──■──┤ X ├──■──\n",
       "          └───┘     </pre>"
      ],
      "text/plain": [
       "     ┌───┐     ┌───┐\n",
       "q_0: ┤ X ├──■──┤ X ├\n",
       "     └─┬─┘┌─┴─┐└─┬─┘\n",
       "q_1: ──■──┤ X ├──■──\n",
       "          └───┘     "
      ]
     },
     "execution_count": 11,
     "metadata": {},
     "output_type": "execute_result"
    }
   ],
   "source": [
    "qc = QuantumCircuit(2)\n",
    "qc.cx(b,a)\n",
    "qc.cx(a,b)\n",
    "qc.cx(b,a)\n",
    "qc.draw()"
   ]
  },
  {
   "cell_type": "code",
   "execution_count": 12,
   "id": "1a60fc3a",
   "metadata": {},
   "outputs": [
    {
     "name": "stdout",
     "output_type": "stream",
     "text": [
      "{'01': 1024}\n"
     ]
    }
   ],
   "source": [
    "from qiskit import assemble,Aer\n",
    "\n",
    "sim = Aer.get_backend('aer_simulator')\n",
    "qc = QuantumCircuit(2,2)\n",
    "# swaps states of qubits a and b\n",
    "initial_state1 = [1,0] #0\n",
    "initial_state2 = [0,1] #1\n",
    "qc.initialize(initial_state1, 0)\n",
    "qc.initialize(initial_state2, 1)\n",
    "#qc.x(1)\n",
    "#qc.id(0)\n",
    "qc.swap(a,b)\n",
    "qc.measure([0,1], [0,1])\n",
    "\n",
    "qc.draw()\n",
    "\n",
    "qobj = assemble(qc)  # Assemble circuit into a Qobj that can be run\n",
    "counts = sim.run(qobj).result().get_counts()  # Do the simulation, returning the state vector\n",
    "#plot_histogram(counts)  # Display the output on measurement of state vector\n",
    "print(counts)"
   ]
  },
  {
   "cell_type": "code",
   "execution_count": 13,
   "id": "d373284a",
   "metadata": {},
   "outputs": [
    {
     "data": {
      "image/png": "[encoded data removed]",
      "text/plain": [
       "<Figure size 327.252x204.68 with 1 Axes>"
      ]
     },
     "execution_count": 13,
     "metadata": {},
     "output_type": "execute_result"
    }
   ],
   "source": [
    "qc.draw('mpl')"
   ]
  },
  {
   "cell_type": "markdown",
   "id": "91f3a5a6",
   "metadata": {},
   "source": [
    "## 3. Controlled Rotations\n",
    "\n",
    "* The net effect in this case is therefore to make a controlled version of the rotation Ry(θ).\n",
    "* If the control qubit is in state  \n",
    "|\n",
    "1\n",
    "⟩\n",
    " , however, the ry(-theta/2) is effectively preceded and followed by an X gate. This has the effect of flipping the direction of the y rotation and making a second  \n",
    "R\n",
    "y\n",
    "(\n",
    "θ\n",
    "/\n",
    "2\n",
    ")\n",
    " . The net effect in this case is therefore to make a controlled version of the rotation  \n",
    "R\n",
    "y\n",
    "(\n",
    "θ\n",
    ")\n",
    " "
   ]
  },
  {
   "cell_type": "code",
   "execution_count": 14,
   "id": "0eb437b4",
   "metadata": {},
   "outputs": [
    {
     "data": {
      "text/html": [
       "<pre style=\"word-wrap: normal;white-space: pre;background: #fff0;line-height: 1.1;font-family: &quot;Courier New&quot;,Courier,monospace\">                                      \n",
       "q_0: ─────────────■────────────────■──\n",
       "     ┌─────────┐┌─┴─┐┌──────────┐┌─┴─┐\n",
       "q_1: ┤ Ry(π/2) ├┤ X ├┤ Ry(-π/2) ├┤ X ├\n",
       "     └─────────┘└───┘└──────────┘└───┘</pre>"
      ],
      "text/plain": [
       "                                      \n",
       "q_0: ─────────────■────────────────■──\n",
       "     ┌─────────┐┌─┴─┐┌──────────┐┌─┴─┐\n",
       "q_1: ┤ Ry(π/2) ├┤ X ├┤ Ry(-π/2) ├┤ X ├\n",
       "     └─────────┘└───┘└──────────┘└───┘"
      ]
     },
     "execution_count": 14,
     "metadata": {},
     "output_type": "execute_result"
    }
   ],
   "source": [
    "qc = QuantumCircuit(2)\n",
    "theta = pi # theta can be anything (pi chosen arbitrarily)\n",
    "qc.ry(theta/2,t)\n",
    "qc.cx(c,t)\n",
    "qc.ry(-theta/2,t)\n",
    "qc.cx(c,t)\n",
    "qc.draw()"
   ]
  },
  {
   "cell_type": "markdown",
   "id": "cf4e34da",
   "metadata": {},
   "source": [
    "* It therefore similarly works to make a controlled  Rz(θ). \n",
    "* A controlled Rx(θ) could similarly be made using CNOT gates."
   ]
  },
  {
   "cell_type": "markdown",
   "id": "b99679f7",
   "metadata": {},
   "source": [
    "## 4. The Toffoli"
   ]
  },
  {
   "cell_type": "code",
   "execution_count": 15,
   "id": "03dca817",
   "metadata": {},
   "outputs": [
    {
     "data": {
      "text/html": [
       "<pre style=\"word-wrap: normal;white-space: pre;background: #fff0;line-height: 1.1;font-family: &quot;Courier New&quot;,Courier,monospace\">          \n",
       "q_0: ──■──\n",
       "       │  \n",
       "q_1: ──■──\n",
       "     ┌─┴─┐\n",
       "q_2: ┤ X ├\n",
       "     └───┘</pre>"
      ],
      "text/plain": [
       "          \n",
       "q_0: ──■──\n",
       "       │  \n",
       "q_1: ──■──\n",
       "     ┌─┴─┐\n",
       "q_2: ┤ X ├\n",
       "     └───┘"
      ]
     },
     "execution_count": 15,
     "metadata": {},
     "output_type": "execute_result"
    }
   ],
   "source": [
    "qc = QuantumCircuit(3)\n",
    "a = 0\n",
    "b = 1\n",
    "t = 2\n",
    "# Toffoli with control qubits a and b and target t\n",
    "qc.ccx(a,b,t)\n",
    "qc.draw()"
   ]
  },
  {
   "cell_type": "markdown",
   "id": "b9388e61",
   "metadata": {},
   "source": [
    "*  an arbitrary controlled-controlled-U for any single-qubit rotation U. \n",
    "* For this we need to define controlled versions of V=√U and V†"
   ]
  },
  {
   "cell_type": "code",
   "execution_count": 16,
   "id": "e85b97c8",
   "metadata": {},
   "outputs": [
    {
     "data": {
      "image/png": "[encoded data removed]",
      "text/plain": [
       "<IPython.core.display.Image object>"
      ]
     },
     "execution_count": 16,
     "metadata": {},
     "output_type": "execute_result"
    }
   ],
   "source": [
    "from IPython.display import Image\n",
    "Image(filename=\"D:/Downloads/t0217.PNG\")"
   ]
  },
  {
   "cell_type": "code",
   "execution_count": 17,
   "id": "23b2ba84",
   "metadata": {},
   "outputs": [
    {
     "data": {
      "image/png": "[encoded data removed]",
      "text/plain": [
       "<Figure size 447.797x204.68 with 1 Axes>"
      ]
     },
     "execution_count": 17,
     "metadata": {},
     "output_type": "execute_result"
    }
   ],
   "source": [
    "qc = QuantumCircuit(3)\n",
    "qc.cp(theta,b,t)\n",
    "qc.cx(a,b)\n",
    "qc.cp(-theta,b,t)\n",
    "qc.cx(a,b)\n",
    "qc.cp(theta,a,t)\n",
    "qc.draw('mpl')"
   ]
  },
  {
   "cell_type": "markdown",
   "id": "32715d0a",
   "metadata": {},
   "source": [
    "*  the value of the target is only changed for the  |11⟩\n",
    "  state on the controls -- but it does it with the equivalent of just three CNOT gates."
   ]
  },
  {
   "cell_type": "code",
   "execution_count": 18,
   "id": "1c155dfa",
   "metadata": {},
   "outputs": [
    {
     "data": {
      "image/png": "[encoded data removed]",
      "text/plain": [
       "<Figure size 267.197x204.68 with 1 Axes>"
      ]
     },
     "execution_count": 18,
     "metadata": {},
     "output_type": "execute_result"
    }
   ],
   "source": [
    "qc = QuantumCircuit(3)\n",
    "qc.ch(a,t)\n",
    "qc.cz(b,t)\n",
    "qc.ch(a,t)\n",
    "qc.draw('mpl')"
   ]
  },
  {
   "cell_type": "markdown",
   "id": "5e15555a",
   "metadata": {},
   "source": [
    "##  5.Arbitrary rotations from H and T\n",
    "\n",
    "* use the T gate to create a similar rotation around the x axis."
   ]
  },
  {
   "cell_type": "code",
   "execution_count": 19,
   "id": "f24d930c",
   "metadata": {},
   "outputs": [
    {
     "data": {
      "image/png": "[encoded data removed]",
      "text/plain": [
       "<Figure size 314.126x84.28 with 1 Axes>"
      ]
     },
     "execution_count": 19,
     "metadata": {},
     "output_type": "execute_result"
    }
   ],
   "source": [
    "qc = QuantumCircuit(1)\n",
    "qc.h(0)\n",
    "qc.t(0)\n",
    "qc.h(0)\n",
    "qc.t(0)\n",
    "qc.draw('mpl')"
   ]
  },
  {
   "cell_type": "code",
   "execution_count": 20,
   "id": "dfcebdf7",
   "metadata": {},
   "outputs": [
    {
     "data": {
      "application/vnd.jupyter.widget-view+json": {
       "model_id": "ce53cb67fdb649c688bd56569ac5d748",
       "version_major": 2,
       "version_minor": 0
      },
      "text/plain": [
       "VBox(children=(HBox(children=(Button(description='I', layout=Layout(height='3em', width='3em'), style=ButtonSt…"
      ]
     },
     "metadata": {},
     "output_type": "display_data"
    },
    {
     "data": {
      "application/vnd.jupyter.widget-view+json": {
       "model_id": "fdc54b8017764f619f9164fdf09e72ae",
       "version_major": 2,
       "version_minor": 0
      },
      "text/plain": [
       "Image(value=b'\\x89PNG\\r\\n\\x1a\\n\\x00\\x00\\x00\\rIHDR\\x00\\x00\\x01 \\x00\\x00\\x01 \\x08\\x06\\x00\\x00\\x00\\x14\\x83\\xae\\x8…"
      ]
     },
     "metadata": {},
     "output_type": "display_data"
    }
   ],
   "source": [
    "# Run the code in this cell to see the widget\n",
    "from qiskit_textbook.widgets import gate_demo\n",
    "gate_demo()"
   ]
  },
  {
   "cell_type": "code",
   "execution_count": 21,
   "id": "c06363c2",
   "metadata": {},
   "outputs": [
    {
     "data": {
      "text/html": [
       "<h3>Version Information</h3><table><tr><th>Qiskit Software</th><th>Version</th></tr><tr><td><code>qiskit-terra</code></td><td>0.19.1</td></tr><tr><td><code>qiskit-aer</code></td><td>0.10.2</td></tr><tr><td><code>qiskit-ignis</code></td><td>0.7.0</td></tr><tr><td><code>qiskit-ibmq-provider</code></td><td>0.18.3</td></tr><tr><td><code>qiskit</code></td><td>0.34.1</td></tr><tr><th>System information</th></tr><tr><td>Python version</td><td>3.8.12</td></tr><tr><td>Python compiler</td><td>MSC v.1916 64 bit (AMD64)</td></tr><tr><td>Python build</td><td>default, Oct 12 2021 03:01:40</td></tr><tr><td>OS</td><td>Windows</td></tr><tr><td>CPUs</td><td>2</td></tr><tr><td>Memory (Gb)</td><td>11.87851333618164</td></tr><tr><td colspan='2'>Thu Feb 17 12:08:56 2022 台北標準時間</td></tr></table>"
      ],
      "text/plain": [
       "<IPython.core.display.HTML object>"
      ]
     },
     "metadata": {},
     "output_type": "display_data"
    }
   ],
   "source": [
    "import qiskit.tools.jupyter\n",
    "%qiskit_version_table"
   ]
  },
  {
   "cell_type": "code",
   "execution_count": 22,
   "id": "5d43e598",
   "metadata": {},
   "outputs": [
    {
     "data": {
      "text/html": [
       "<pre style=\"word-wrap: normal;white-space: pre;background: #fff0;line-height: 1.1;font-family: &quot;Courier New&quot;,Courier,monospace\">                                                        ┌───┐      \n",
       "q4_0: ───────────────────■─────────────────────■────■───┤ T ├───■──\n",
       "                         │             ┌───┐   │  ┌─┴─┐┌┴───┴┐┌─┴─┐\n",
       "q4_1: ───────■───────────┼─────────■───┤ T ├───┼──┤ X ├┤ Tdg ├┤ X ├\n",
       "      ┌───┐┌─┴─┐┌─────┐┌─┴─┐┌───┐┌─┴─┐┌┴───┴┐┌─┴─┐├───┤└┬───┬┘└───┘\n",
       "q4_2: ┤ H ├┤ X ├┤ Tdg ├┤ X ├┤ T ├┤ X ├┤ Tdg ├┤ X ├┤ T ├─┤ H ├──────\n",
       "      └───┘└───┘└─────┘└───┘└───┘└───┘└─────┘└───┘└───┘ └───┘      </pre>"
      ],
      "text/plain": [
       "                                                        ┌───┐      \n",
       "q4_0: ───────────────────■─────────────────────■────■───┤ T ├───■──\n",
       "                         │             ┌───┐   │  ┌─┴─┐┌┴───┴┐┌─┴─┐\n",
       "q4_1: ───────■───────────┼─────────■───┤ T ├───┼──┤ X ├┤ Tdg ├┤ X ├\n",
       "      ┌───┐┌─┴─┐┌─────┐┌─┴─┐┌───┐┌─┴─┐┌┴───┴┐┌─┴─┐├───┤└┬───┬┘└───┘\n",
       "q4_2: ┤ H ├┤ X ├┤ Tdg ├┤ X ├┤ T ├┤ X ├┤ Tdg ├┤ X ├┤ T ├─┤ H ├──────\n",
       "      └───┘└───┘└─────┘└───┘└───┘└───┘└─────┘└───┘└───┘ └───┘      "
      ]
     },
     "execution_count": 22,
     "metadata": {},
     "output_type": "execute_result"
    }
   ],
   "source": [
    "from qiskit import QuantumRegister,QuantumCircuit\n",
    "from qiskit.tools.visualization import plot_histogram, circuit_drawer\n",
    "\n",
    "# Define toffoli gate\n",
    "def toffoli1(c0, c1, t, q, qc):\n",
    "    qc.h(q[t])\n",
    "    qc.cx(q[c1], q[t])\n",
    "    qc.tdg(q[t])\n",
    "    qc.cx(q[c0], q[t])\n",
    "    qc.t(q[t])\n",
    "    qc.cx(q[c1], q[t])\n",
    "    qc.tdg(q[t])\n",
    "    qc.cx(q[c0], q[t])\n",
    "    qc.t(q[c1])\n",
    "    qc.t(q[t])\n",
    "    qc.cx(q[c0], q[c1])\n",
    "    qc.h(q[t])\n",
    "    qc.t(q[c0])\n",
    "    qc.tdg(q[c1])\n",
    "    qc.cx(q[c0], q[c1])\n",
    "    \n",
    "q = QuantumRegister(3)\n",
    "qc = QuantumCircuit(q)\n",
    "toffoli1(0, 1, 2, q, qc)\n",
    "circuit_drawer(qc)"
   ]
  },
  {
   "cell_type": "code",
   "execution_count": null,
   "id": "5f96cece",
   "metadata": {},
   "outputs": [],
   "source": []
  }
 ],
 "metadata": {
  "kernelspec": {
   "display_name": "Python 3 (ipykernel)",
   "language": "python",
   "name": "python3"
  },
  "language_info": {
   "codemirror_mode": {
    "name": "ipython",
    "version": 3
   },
   "file_extension": ".py",
   "mimetype": "text/x-python",
   "name": "python",
   "nbconvert_exporter": "python",
   "pygments_lexer": "ipython3",
   "version": "3.8.12"
  }
 },
 "nbformat": 4,
 "nbformat_minor": 5
}
